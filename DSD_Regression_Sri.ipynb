{
 "cells": [
  {
   "cell_type": "code",
   "execution_count": 1,
   "metadata": {},
   "outputs": [],
   "source": [
    "#Import Libraries"
   ]
  },
  {
   "cell_type": "code",
   "execution_count": 2,
   "metadata": {},
   "outputs": [],
   "source": [
    "import pandas as pd\n",
    "import numpy as np\n",
    "import tensorflow as tf\n",
    "from tensorflow import keras\n",
    "from keras.models import Sequential\n",
    "from keras.layers import Dense\n",
    "from tensorflow.keras.layers import Input\n",
    "from sklearn.model_selection import train_test_split\n",
    "from tensorflow.keras.models import Model"
   ]
  },
  {
   "cell_type": "code",
   "execution_count": 3,
   "metadata": {},
   "outputs": [],
   "source": [
    "#Reading the data and viewing"
   ]
  },
  {
   "cell_type": "code",
   "execution_count": 4,
   "metadata": {},
   "outputs": [],
   "source": [
    "df = pd.read_csv('/Users/srinathnarayanan/Downloads/Misc/DSD.csv',header = 0,index_col = False)"
   ]
  },
  {
   "cell_type": "code",
   "execution_count": 5,
   "metadata": {},
   "outputs": [
    {
     "data": {
      "text/html": [
       "<div>\n",
       "<style scoped>\n",
       "    .dataframe tbody tr th:only-of-type {\n",
       "        vertical-align: middle;\n",
       "    }\n",
       "\n",
       "    .dataframe tbody tr th {\n",
       "        vertical-align: top;\n",
       "    }\n",
       "\n",
       "    .dataframe thead th {\n",
       "        text-align: right;\n",
       "    }\n",
       "</style>\n",
       "<table border=\"1\" class=\"dataframe\">\n",
       "  <thead>\n",
       "    <tr style=\"text-align: right;\">\n",
       "      <th></th>\n",
       "      <th>CustStorItemTriadID</th>\n",
       "      <th>BaseorderID</th>\n",
       "      <th>Createdate</th>\n",
       "      <th>RecDeliveryDate</th>\n",
       "      <th>CategoryID</th>\n",
       "      <th>OaMasterDistributorID</th>\n",
       "      <th>ConversionFactor</th>\n",
       "      <th>InventoryChange</th>\n",
       "      <th>ActualScans</th>\n",
       "      <th>ForecastedScans</th>\n",
       "      <th>...</th>\n",
       "      <th>ConversionUnits</th>\n",
       "      <th>MaxDeliveredQty</th>\n",
       "      <th>ConversionResidual</th>\n",
       "      <th>Previous2DelDate</th>\n",
       "      <th>MaxScanDate</th>\n",
       "      <th>MaxShipDate</th>\n",
       "      <th>TwoOrderAgo</th>\n",
       "      <th>QtyShippedTwoOrderAgo</th>\n",
       "      <th>Reviewed</th>\n",
       "      <th>IncInAnom</th>\n",
       "    </tr>\n",
       "  </thead>\n",
       "  <tbody>\n",
       "    <tr>\n",
       "      <td>0</td>\n",
       "      <td>13761530</td>\n",
       "      <td>1867926</td>\n",
       "      <td>5/1/2020</td>\n",
       "      <td>5/7/2020</td>\n",
       "      <td>1</td>\n",
       "      <td>5</td>\n",
       "      <td>0.75</td>\n",
       "      <td>12</td>\n",
       "      <td>0</td>\n",
       "      <td>13</td>\n",
       "      <td>...</td>\n",
       "      <td>9</td>\n",
       "      <td>27</td>\n",
       "      <td>1</td>\n",
       "      <td>4/30/2020</td>\n",
       "      <td>4/29/2020</td>\n",
       "      <td>4/27/2020</td>\n",
       "      <td>9</td>\n",
       "      <td>0</td>\n",
       "      <td>1</td>\n",
       "      <td>1</td>\n",
       "    </tr>\n",
       "    <tr>\n",
       "      <td>1</td>\n",
       "      <td>13761530</td>\n",
       "      <td>1889852</td>\n",
       "      <td>5/7/2020</td>\n",
       "      <td>5/11/2020</td>\n",
       "      <td>1</td>\n",
       "      <td>5</td>\n",
       "      <td>0.75</td>\n",
       "      <td>3</td>\n",
       "      <td>0</td>\n",
       "      <td>18</td>\n",
       "      <td>...</td>\n",
       "      <td>9</td>\n",
       "      <td>27</td>\n",
       "      <td>6</td>\n",
       "      <td>5/4/2020</td>\n",
       "      <td>5/5/2020</td>\n",
       "      <td>5/4/2020</td>\n",
       "      <td>18</td>\n",
       "      <td>13</td>\n",
       "      <td>1</td>\n",
       "      <td>1</td>\n",
       "    </tr>\n",
       "    <tr>\n",
       "      <td>2</td>\n",
       "      <td>13761530</td>\n",
       "      <td>1899415</td>\n",
       "      <td>5/8/2020</td>\n",
       "      <td>5/14/2020</td>\n",
       "      <td>1</td>\n",
       "      <td>5</td>\n",
       "      <td>0.75</td>\n",
       "      <td>5</td>\n",
       "      <td>0</td>\n",
       "      <td>11</td>\n",
       "      <td>...</td>\n",
       "      <td>9</td>\n",
       "      <td>27</td>\n",
       "      <td>0</td>\n",
       "      <td>5/7/2020</td>\n",
       "      <td>5/6/2020</td>\n",
       "      <td>5/4/2020</td>\n",
       "      <td>9</td>\n",
       "      <td>0</td>\n",
       "      <td>1</td>\n",
       "      <td>1</td>\n",
       "    </tr>\n",
       "    <tr>\n",
       "      <td>3</td>\n",
       "      <td>13761530</td>\n",
       "      <td>1953002</td>\n",
       "      <td>5/21/2020</td>\n",
       "      <td>5/25/2020</td>\n",
       "      <td>1</td>\n",
       "      <td>5</td>\n",
       "      <td>0.75</td>\n",
       "      <td>5</td>\n",
       "      <td>0</td>\n",
       "      <td>16</td>\n",
       "      <td>...</td>\n",
       "      <td>9</td>\n",
       "      <td>27</td>\n",
       "      <td>0</td>\n",
       "      <td>5/18/2020</td>\n",
       "      <td>5/19/2020</td>\n",
       "      <td>5/18/2020</td>\n",
       "      <td>18</td>\n",
       "      <td>12</td>\n",
       "      <td>1</td>\n",
       "      <td>1</td>\n",
       "    </tr>\n",
       "    <tr>\n",
       "      <td>4</td>\n",
       "      <td>13761530</td>\n",
       "      <td>2048503</td>\n",
       "      <td>6/11/2020</td>\n",
       "      <td>6/15/2020</td>\n",
       "      <td>1</td>\n",
       "      <td>5</td>\n",
       "      <td>0.75</td>\n",
       "      <td>6</td>\n",
       "      <td>0</td>\n",
       "      <td>15</td>\n",
       "      <td>...</td>\n",
       "      <td>9</td>\n",
       "      <td>27</td>\n",
       "      <td>5</td>\n",
       "      <td>6/8/2020</td>\n",
       "      <td>6/9/2020</td>\n",
       "      <td>6/8/2020</td>\n",
       "      <td>18</td>\n",
       "      <td>9</td>\n",
       "      <td>1</td>\n",
       "      <td>1</td>\n",
       "    </tr>\n",
       "    <tr>\n",
       "      <td>...</td>\n",
       "      <td>...</td>\n",
       "      <td>...</td>\n",
       "      <td>...</td>\n",
       "      <td>...</td>\n",
       "      <td>...</td>\n",
       "      <td>...</td>\n",
       "      <td>...</td>\n",
       "      <td>...</td>\n",
       "      <td>...</td>\n",
       "      <td>...</td>\n",
       "      <td>...</td>\n",
       "      <td>...</td>\n",
       "      <td>...</td>\n",
       "      <td>...</td>\n",
       "      <td>...</td>\n",
       "      <td>...</td>\n",
       "      <td>...</td>\n",
       "      <td>...</td>\n",
       "      <td>...</td>\n",
       "      <td>...</td>\n",
       "      <td>...</td>\n",
       "    </tr>\n",
       "    <tr>\n",
       "      <td>495597</td>\n",
       "      <td>21016901</td>\n",
       "      <td>2249563</td>\n",
       "      <td>7/24/2020</td>\n",
       "      <td>7/27/2020</td>\n",
       "      <td>1</td>\n",
       "      <td>5</td>\n",
       "      <td>0.75</td>\n",
       "      <td>1</td>\n",
       "      <td>0</td>\n",
       "      <td>3</td>\n",
       "      <td>...</td>\n",
       "      <td>4</td>\n",
       "      <td>8</td>\n",
       "      <td>2</td>\n",
       "      <td>7/20/2020</td>\n",
       "      <td>7/20/2020</td>\n",
       "      <td>7/20/2020</td>\n",
       "      <td>4</td>\n",
       "      <td>4</td>\n",
       "      <td>1</td>\n",
       "      <td>1</td>\n",
       "    </tr>\n",
       "    <tr>\n",
       "      <td>495598</td>\n",
       "      <td>21016901</td>\n",
       "      <td>2262011</td>\n",
       "      <td>7/28/2020</td>\n",
       "      <td>7/30/2020</td>\n",
       "      <td>1</td>\n",
       "      <td>5</td>\n",
       "      <td>0.75</td>\n",
       "      <td>4</td>\n",
       "      <td>0</td>\n",
       "      <td>3</td>\n",
       "      <td>...</td>\n",
       "      <td>4</td>\n",
       "      <td>8</td>\n",
       "      <td>0</td>\n",
       "      <td>7/23/2020</td>\n",
       "      <td>7/26/2020</td>\n",
       "      <td>7/20/2020</td>\n",
       "      <td>0</td>\n",
       "      <td>0</td>\n",
       "      <td>1</td>\n",
       "      <td>1</td>\n",
       "    </tr>\n",
       "    <tr>\n",
       "      <td>495599</td>\n",
       "      <td>21016901</td>\n",
       "      <td>2294886</td>\n",
       "      <td>8/4/2020</td>\n",
       "      <td>8/6/2020</td>\n",
       "      <td>1</td>\n",
       "      <td>5</td>\n",
       "      <td>0.75</td>\n",
       "      <td>5</td>\n",
       "      <td>0</td>\n",
       "      <td>5</td>\n",
       "      <td>...</td>\n",
       "      <td>4</td>\n",
       "      <td>8</td>\n",
       "      <td>1</td>\n",
       "      <td>7/30/2020</td>\n",
       "      <td>8/2/2020</td>\n",
       "      <td>7/30/2020</td>\n",
       "      <td>0</td>\n",
       "      <td>4</td>\n",
       "      <td>1</td>\n",
       "      <td>1</td>\n",
       "    </tr>\n",
       "    <tr>\n",
       "      <td>495600</td>\n",
       "      <td>21016901</td>\n",
       "      <td>2319043</td>\n",
       "      <td>8/7/2020</td>\n",
       "      <td>8/10/2020</td>\n",
       "      <td>1</td>\n",
       "      <td>5</td>\n",
       "      <td>0.75</td>\n",
       "      <td>7</td>\n",
       "      <td>0</td>\n",
       "      <td>3</td>\n",
       "      <td>...</td>\n",
       "      <td>4</td>\n",
       "      <td>8</td>\n",
       "      <td>0</td>\n",
       "      <td>8/3/2020</td>\n",
       "      <td>8/4/2020</td>\n",
       "      <td>7/30/2020</td>\n",
       "      <td>8</td>\n",
       "      <td>0</td>\n",
       "      <td>1</td>\n",
       "      <td>1</td>\n",
       "    </tr>\n",
       "    <tr>\n",
       "      <td>495601</td>\n",
       "      <td>21016901</td>\n",
       "      <td>2373971</td>\n",
       "      <td>8/14/2020</td>\n",
       "      <td>8/17/2020</td>\n",
       "      <td>1</td>\n",
       "      <td>5</td>\n",
       "      <td>0.75</td>\n",
       "      <td>0</td>\n",
       "      <td>0</td>\n",
       "      <td>0</td>\n",
       "      <td>...</td>\n",
       "      <td>4</td>\n",
       "      <td>8</td>\n",
       "      <td>0</td>\n",
       "      <td>8/10/2020</td>\n",
       "      <td>8/7/2020</td>\n",
       "      <td>8/10/2020</td>\n",
       "      <td>4</td>\n",
       "      <td>4</td>\n",
       "      <td>1</td>\n",
       "      <td>1</td>\n",
       "    </tr>\n",
       "  </tbody>\n",
       "</table>\n",
       "<p>495602 rows × 29 columns</p>\n",
       "</div>"
      ],
      "text/plain": [
       "        CustStorItemTriadID  BaseorderID Createdate RecDeliveryDate  \\\n",
       "0                  13761530      1867926   5/1/2020        5/7/2020   \n",
       "1                  13761530      1889852   5/7/2020       5/11/2020   \n",
       "2                  13761530      1899415   5/8/2020       5/14/2020   \n",
       "3                  13761530      1953002  5/21/2020       5/25/2020   \n",
       "4                  13761530      2048503  6/11/2020       6/15/2020   \n",
       "...                     ...          ...        ...             ...   \n",
       "495597             21016901      2249563  7/24/2020       7/27/2020   \n",
       "495598             21016901      2262011  7/28/2020       7/30/2020   \n",
       "495599             21016901      2294886   8/4/2020        8/6/2020   \n",
       "495600             21016901      2319043   8/7/2020       8/10/2020   \n",
       "495601             21016901      2373971  8/14/2020       8/17/2020   \n",
       "\n",
       "        CategoryID  OaMasterDistributorID  ConversionFactor  InventoryChange  \\\n",
       "0                1                      5              0.75               12   \n",
       "1                1                      5              0.75                3   \n",
       "2                1                      5              0.75                5   \n",
       "3                1                      5              0.75                5   \n",
       "4                1                      5              0.75                6   \n",
       "...            ...                    ...               ...              ...   \n",
       "495597           1                      5              0.75                1   \n",
       "495598           1                      5              0.75                4   \n",
       "495599           1                      5              0.75                5   \n",
       "495600           1                      5              0.75                7   \n",
       "495601           1                      5              0.75                0   \n",
       "\n",
       "        ActualScans  ForecastedScans  ... ConversionUnits  MaxDeliveredQty  \\\n",
       "0                 0               13  ...               9               27   \n",
       "1                 0               18  ...               9               27   \n",
       "2                 0               11  ...               9               27   \n",
       "3                 0               16  ...               9               27   \n",
       "4                 0               15  ...               9               27   \n",
       "...             ...              ...  ...             ...              ...   \n",
       "495597            0                3  ...               4                8   \n",
       "495598            0                3  ...               4                8   \n",
       "495599            0                5  ...               4                8   \n",
       "495600            0                3  ...               4                8   \n",
       "495601            0                0  ...               4                8   \n",
       "\n",
       "        ConversionResidual  Previous2DelDate  MaxScanDate  MaxShipDate  \\\n",
       "0                        1         4/30/2020    4/29/2020    4/27/2020   \n",
       "1                        6          5/4/2020     5/5/2020     5/4/2020   \n",
       "2                        0          5/7/2020     5/6/2020     5/4/2020   \n",
       "3                        0         5/18/2020    5/19/2020    5/18/2020   \n",
       "4                        5          6/8/2020     6/9/2020     6/8/2020   \n",
       "...                    ...               ...          ...          ...   \n",
       "495597                   2         7/20/2020    7/20/2020    7/20/2020   \n",
       "495598                   0         7/23/2020    7/26/2020    7/20/2020   \n",
       "495599                   1         7/30/2020     8/2/2020    7/30/2020   \n",
       "495600                   0          8/3/2020     8/4/2020    7/30/2020   \n",
       "495601                   0         8/10/2020     8/7/2020    8/10/2020   \n",
       "\n",
       "        TwoOrderAgo  QtyShippedTwoOrderAgo  Reviewed  IncInAnom  \n",
       "0                 9                      0         1          1  \n",
       "1                18                     13         1          1  \n",
       "2                 9                      0         1          1  \n",
       "3                18                     12         1          1  \n",
       "4                18                      9         1          1  \n",
       "...             ...                    ...       ...        ...  \n",
       "495597            4                      4         1          1  \n",
       "495598            0                      0         1          1  \n",
       "495599            0                      4         1          1  \n",
       "495600            8                      0         1          1  \n",
       "495601            4                      4         1          1  \n",
       "\n",
       "[495602 rows x 29 columns]"
      ]
     },
     "execution_count": 5,
     "metadata": {},
     "output_type": "execute_result"
    }
   ],
   "source": [
    "df"
   ]
  },
  {
   "cell_type": "code",
   "execution_count": 6,
   "metadata": {},
   "outputs": [],
   "source": [
    "#Replacing Nan to zeros and make sure we dont delete any rows"
   ]
  },
  {
   "cell_type": "code",
   "execution_count": 7,
   "metadata": {},
   "outputs": [],
   "source": [
    "df = df.fillna(0)"
   ]
  },
  {
   "cell_type": "code",
   "execution_count": 8,
   "metadata": {},
   "outputs": [],
   "source": [
    "#Checking if Nan are replaced with zeros"
   ]
  },
  {
   "cell_type": "code",
   "execution_count": 9,
   "metadata": {},
   "outputs": [
    {
     "data": {
      "text/plain": [
       "False"
      ]
     },
     "execution_count": 9,
     "metadata": {},
     "output_type": "execute_result"
    }
   ],
   "source": [
    "df.isnull().values.any()"
   ]
  },
  {
   "cell_type": "code",
   "execution_count": 10,
   "metadata": {},
   "outputs": [],
   "source": [
    "# Function to assign value 0 if there is no match between OriginalPropOrderQty numbers with the sum(Actual+Forecasted+Weightdata)"
   ]
  },
  {
   "cell_type": "code",
   "execution_count": 11,
   "metadata": {},
   "outputs": [],
   "source": [
    "df['Original'] = df['WeightData']+df['BaseOrder']+df['TrueUpAdjQty']"
   ]
  },
  {
   "cell_type": "code",
   "execution_count": 12,
   "metadata": {},
   "outputs": [],
   "source": [
    "def Original(df):\n",
    "        if df['OriginalPropOrderQty'] == df['Original']:\n",
    "            return 1\n",
    "        return 0\n",
    "df['Original'] = df.apply(Original, axis=1)"
   ]
  },
  {
   "cell_type": "code",
   "execution_count": 13,
   "metadata": {},
   "outputs": [
    {
     "data": {
      "text/plain": [
       "1    406068\n",
       "0     89534\n",
       "Name: Original, dtype: int64"
      ]
     },
     "execution_count": 13,
     "metadata": {},
     "output_type": "execute_result"
    }
   ],
   "source": [
    "df.Original.value_counts()"
   ]
  },
  {
   "cell_type": "code",
   "execution_count": 14,
   "metadata": {},
   "outputs": [],
   "source": [
    "# Function to assign value 0 if there is no match between PropOrderQty and OriginalPropOrderQty"
   ]
  },
  {
   "cell_type": "code",
   "execution_count": 15,
   "metadata": {},
   "outputs": [],
   "source": [
    "def target(df):\n",
    "        if df['OriginalPropOrderQty'] == df['PropOrderQty']:\n",
    "            return 1\n",
    "        return 0\n",
    "df['target'] = df.apply(target, axis=1) "
   ]
  },
  {
   "cell_type": "code",
   "execution_count": 16,
   "metadata": {},
   "outputs": [
    {
     "data": {
      "text/plain": [
       "1    382184\n",
       "0    113418\n",
       "Name: target, dtype: int64"
      ]
     },
     "execution_count": 16,
     "metadata": {},
     "output_type": "execute_result"
    }
   ],
   "source": [
    "df.target.value_counts()"
   ]
  },
  {
   "cell_type": "code",
   "execution_count": 17,
   "metadata": {},
   "outputs": [],
   "source": [
    "def targetsize(df):\n",
    "        if df['MaxDeliveredQty'] == df['PropOrderQty']:\n",
    "            return 1\n",
    "        return 0\n",
    "df['targetsize'] = df.apply(targetsize, axis=1) "
   ]
  },
  {
   "cell_type": "code",
   "execution_count": 18,
   "metadata": {},
   "outputs": [
    {
     "data": {
      "text/plain": [
       "0    448096\n",
       "1     47506\n",
       "Name: targetsize, dtype: int64"
      ]
     },
     "execution_count": 18,
     "metadata": {},
     "output_type": "execute_result"
    }
   ],
   "source": [
    "df.targetsize.value_counts()"
   ]
  },
  {
   "cell_type": "code",
   "execution_count": 19,
   "metadata": {},
   "outputs": [],
   "source": [
    "X = df[['InventoryChange','ActualScans','ForecastedScans','SlowMoving','TrueUpAdjQty','TooBig','OriginalPropOrderQty','target','targetsize','Original']]\n",
    "y = df['PropOrderQty']"
   ]
  },
  {
   "cell_type": "code",
   "execution_count": 20,
   "metadata": {},
   "outputs": [],
   "source": [
    "X_train, X_test, y_train, y_test = train_test_split(X, y, test_size=0.20, random_state=42)"
   ]
  },
  {
   "cell_type": "code",
   "execution_count": 21,
   "metadata": {},
   "outputs": [],
   "source": [
    "input_layer = Input(shape=(X.shape[1],))\n",
    "dense_layer_1 = Dense(100, activation='relu')(input_layer)\n",
    "dense_layer_2 = Dense(50, activation='relu')(dense_layer_1)\n",
    "dense_layer_3 = Dense(25, activation='relu')(dense_layer_2)\n",
    "output = Dense(1)(dense_layer_3)\n",
    "\n",
    "model = Model(inputs=input_layer, outputs=output)\n",
    "model.compile(loss=\"mean_squared_error\" , optimizer=\"adam\", metrics=[\"mean_squared_error\"])"
   ]
  },
  {
   "cell_type": "code",
   "execution_count": 22,
   "metadata": {},
   "outputs": [
    {
     "name": "stdout",
     "output_type": "stream",
     "text": [
      "Epoch 1/4\n",
      "158592/158592 [==============================] - 104s 652us/step - loss: 3.4373 - mean_squared_error: 3.4373 - val_loss: 1.3492 - val_mean_squared_error: 1.3492\n",
      "Epoch 2/4\n",
      "158592/158592 [==============================] - 104s 656us/step - loss: 1.2457 - mean_squared_error: 1.2457 - val_loss: 0.9566 - val_mean_squared_error: 0.9566\n",
      "Epoch 3/4\n",
      "158592/158592 [==============================] - 283s 2ms/step - loss: 1.1587 - mean_squared_error: 1.1587 - val_loss: 0.9533 - val_mean_squared_error: 0.9533\n",
      "Epoch 4/4\n",
      "158592/158592 [==============================] - 113s 711us/step - loss: 1.1568 - mean_squared_error: 1.1568 - val_loss: 0.9814 - val_mean_squared_error: 0.9814\n"
     ]
    }
   ],
   "source": [
    "history = model.fit(X_train, y_train, batch_size=32, epochs=4, verbose=1, validation_split=0.2)"
   ]
  },
  {
   "cell_type": "code",
   "execution_count": 23,
   "metadata": {},
   "outputs": [
    {
     "name": "stdout",
     "output_type": "stream",
     "text": [
      "1.004585928400773\n",
      "1.041965218305897\n"
     ]
    }
   ],
   "source": [
    "from sklearn.metrics import mean_squared_error\n",
    "from math import sqrt\n",
    "\n",
    "pred_train = model.predict(X_train)\n",
    "print(np.sqrt(mean_squared_error(y_train,pred_train)))\n",
    "\n",
    "pred = model.predict(X_test)\n",
    "print(np.sqrt(mean_squared_error(y_test,pred)))"
   ]
  },
  {
   "cell_type": "code",
   "execution_count": null,
   "metadata": {},
   "outputs": [],
   "source": []
  }
 ],
 "metadata": {
  "kernelspec": {
   "display_name": "Python 3",
   "language": "python",
   "name": "python3"
  },
  "language_info": {
   "codemirror_mode": {
    "name": "ipython",
    "version": 3
   },
   "file_extension": ".py",
   "mimetype": "text/x-python",
   "name": "python",
   "nbconvert_exporter": "python",
   "pygments_lexer": "ipython3",
   "version": "3.7.4"
  }
 },
 "nbformat": 4,
 "nbformat_minor": 2
}
